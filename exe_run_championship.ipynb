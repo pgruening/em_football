{
 "cells": [
  {
   "cell_type": "code",
   "execution_count": null,
   "id": "accessory-screw",
   "metadata": {},
   "outputs": [],
   "source": [
    "import sys, os\n",
    "if 'google.colab' in sys.modules:\n",
    "      if os.getcwd() == '/content':\n",
    "        !git clone 'https://github.com/pgruening/em_football.git'\n",
    "        !pip install git+https://github.com/pgruening/dlbio\n",
    "        !pip install mdutils\n",
    "        os.chdir('em_football')"
   ]
  },
  {
   "cell_type": "code",
   "execution_count": null,
   "id": "equal-houston",
   "metadata": {},
   "outputs": [],
   "source": [
    "from os.path import join\n",
    "\n",
    "import matplotlib.pyplot as plt\n",
    "import numpy as np\n",
    "import torch\n",
    "from dataset.ds_qualification import get_one_hot\n",
    "from DLBio.helpers import load_json\n",
    "from DLBio.pytorch_helpers import get_device\n",
    "from game_plan_api import get_winner, run\n",
    "from helpers import load_model\n",
    "from tqdm import tqdm"
   ]
  },
  {
   "cell_type": "code",
   "execution_count": null,
   "id": "bridal-transparency",
   "metadata": {},
   "outputs": [],
   "source": [
    "PATH = 'used_model'\n",
    "\n",
    "\n",
    "class MyModel():\n",
    "    def __init__(self, max_lk):\n",
    "        device = 'cpu'\n",
    "        options = load_json(join(PATH, 'opt.json'))\n",
    "        device = get_device()\n",
    "        model = load_model(\n",
    "            options, device, new_model_path=join(PATH, 'model.pt'),\n",
    "            map_location=torch.device(device)\n",
    "        )\n",
    "        to_one_hot = get_one_hot()\n",
    "        model.to_one_hot = to_one_hot\n",
    "        model.d = device\n",
    "        self.model = model\n",
    "        self.max_lk = max_lk\n",
    "\n",
    "    def __call__(self, team_1, team_2, no_draws=False):\n",
    "        with torch.no_grad():\n",
    "            out = self.model.predict(\n",
    "                team_1, team_2, no_draws=no_draws, max_lk=self.max_lk)\n",
    "        return out\n"
   ]
  },
  {
   "cell_type": "code",
   "execution_count": null,
   "id": "suburban-waste",
   "metadata": {},
   "outputs": [],
   "source": [
    "def main(path='my_results.md'):\n",
    "    model = MyModel(True)\n",
    "    group_tables, all_games = run(model, path=path)\n",
    "    return group_tables, all_games\n",
    "\n",
    "def winner_dist(path='my_winner_dist.png'):\n",
    "    model = MyModel(False)\n",
    "    winners_ = []\n",
    "    for _ in tqdm(range(100)):\n",
    "        winner = get_winner(model)\n",
    "        winners_.append(winner)\n",
    "\n",
    "    plt.hist(np.array(winners_))\n",
    "    plt.show()\n"
   ]
  },
  {
   "cell_type": "code",
   "execution_count": null,
   "id": "dependent-automation",
   "metadata": {},
   "outputs": [],
   "source": [
    "def main(path='my_results.md'):\n",
    "    model = MyModel(True)\n",
    "    group_tables, all_games = run(model, path=path)\n",
    "    return group_tables, all_games\n"
   ]
  },
  {
   "cell_type": "code",
   "execution_count": null,
   "id": "personal-nitrogen",
   "metadata": {},
   "outputs": [],
   "source": [
    "group_tables, all_games = main()"
   ]
  },
  {
   "cell_type": "code",
   "execution_count": null,
   "id": "careful-cement",
   "metadata": {},
   "outputs": [],
   "source": [
    "for gt in group_tables.values():\n",
    "    display(gt)"
   ]
  },
  {
   "cell_type": "code",
   "execution_count": null,
   "id": "prompt-prescription",
   "metadata": {},
   "outputs": [],
   "source": [
    "all_games"
   ]
  },
  {
   "cell_type": "code",
   "execution_count": null,
   "id": "violent-celebration",
   "metadata": {},
   "outputs": [],
   "source": [
    "winner_dist()"
   ]
  }
 ],
 "metadata": {
  "kernelspec": {
   "display_name": "PyT1.6",
   "language": "python",
   "name": "pyt1.6"
  },
  "language_info": {
   "codemirror_mode": {
    "name": "ipython",
    "version": 3
   },
   "file_extension": ".py",
   "mimetype": "text/x-python",
   "name": "python",
   "nbconvert_exporter": "python",
   "pygments_lexer": "ipython3",
   "version": "3.6.9"
  }
 },
 "nbformat": 4,
 "nbformat_minor": 5
}
